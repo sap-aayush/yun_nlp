{
 "cells": [
  {
   "cell_type": "code",
   "execution_count": 1,
   "metadata": {},
   "outputs": [],
   "source": [
    "import requests\n",
    "from bs4 import BeautifulSoup\n",
    "from datetime import datetime, timedelta"
   ]
  },
  {
   "cell_type": "code",
   "execution_count": 2,
   "metadata": {},
   "outputs": [],
   "source": [
    "def scrape_news():\n",
    "    url = 'https://example.com/news'  # Replace with actual news website URL\n",
    "    response = requests.get(url)\n",
    "    soup = BeautifulSoup(response.content, 'html.parser')\n",
    "    news_items = soup.find_all('div', class_='news-item')\n",
    "    scraped_data = []\n",
    "\n",
    "    for item in news_items:\n",
    "        headline = item.find('h2').text.strip()\n",
    "        timestamp_str = item.find('span', class_='timestamp').text.strip()\n",
    "        timestamp = datetime.strptime(timestamp_str, '%Y-%m-%d %H:%M:%S')\n",
    "        news_url = item.find('a')['href']\n",
    "\n",
    "        if timestamp >= datetime.now() - timedelta(hours=24):\n",
    "            scraped_data.append({\n",
    "                'source': url,\n",
    "                'text': f\"{headline} ({timestamp_str})\",\n",
    "                'url': news_url\n",
    "            })\n",
    "\n",
    "    return scraped_data"
   ]
  },
  {
   "cell_type": "code",
   "execution_count": null,
   "metadata": {},
   "outputs": [],
   "source": []
  }
 ],
 "metadata": {
  "kernelspec": {
   "display_name": "Python 3",
   "language": "python",
   "name": "python3"
  },
  "language_info": {
   "codemirror_mode": {
    "name": "ipython",
    "version": 3
   },
   "file_extension": ".py",
   "mimetype": "text/x-python",
   "name": "python",
   "nbconvert_exporter": "python",
   "pygments_lexer": "ipython3",
   "version": "3.11.3"
  }
 },
 "nbformat": 4,
 "nbformat_minor": 2
}
